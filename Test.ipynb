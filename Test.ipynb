{
 "cells": [
  {
   "cell_type": "markdown",
   "metadata": {},
   "source": [
    "# Test code"
   ]
  },
  {
   "cell_type": "markdown",
   "metadata": {},
   "source": [
    "### Installization"
   ]
  },
  {
   "cell_type": "code",
   "execution_count": 1,
   "metadata": {
    "scrolled": true
   },
   "outputs": [
    {
     "name": "stdout",
     "output_type": "stream",
     "text": [
      "Compiling kmeanscython/kmeansinit_cython.pyx because it changed.\n",
      "Compiling kmeanscython/kmeansinitpp_cython.pyx because it changed.\n",
      "Compiling kmeanscython/kmeansinitvv_cython.pyx because it changed.\n",
      "Compiling kmeanscython/kmeansloop_cython.pyx because it changed.\n",
      "Compiling kmeanscython/__init__.pyx because it changed.\n",
      "[1/5] Cythonizing kmeanscython/__init__.pyx\n",
      "[2/5] Cythonizing kmeanscython/kmeansinit_cython.pyx\n",
      "[3/5] Cythonizing kmeanscython/kmeansinitpp_cython.pyx\n",
      "[4/5] Cythonizing kmeanscython/kmeansinitvv_cython.pyx\n",
      "[5/5] Cythonizing kmeanscython/kmeansloop_cython.pyx\n",
      "running install\n",
      "running build\n",
      "running build_py\n",
      "creating build\n",
      "creating build/lib.linux-x86_64-3.6\n",
      "creating build/lib.linux-x86_64-3.6/kmeanspython\n",
      "copying kmeanspython/kmeansinit.py -> build/lib.linux-x86_64-3.6/kmeanspython\n",
      "copying kmeanspython/kmeansinitvv.py -> build/lib.linux-x86_64-3.6/kmeanspython\n",
      "copying kmeanspython/kmeansinitpp.py -> build/lib.linux-x86_64-3.6/kmeanspython\n",
      "copying kmeanspython/__init__.py -> build/lib.linux-x86_64-3.6/kmeanspython\n",
      "copying kmeanspython/kmeansloop.py -> build/lib.linux-x86_64-3.6/kmeanspython\n",
      "running build_ext\n",
      "building 'kmeanscython.kmeansinit_cython' extension\n",
      "creating build/temp.linux-x86_64-3.6\n",
      "creating build/temp.linux-x86_64-3.6/kmeanscython\n",
      "gcc -pthread -Wno-unused-result -Wsign-compare -DNDEBUG -g -fwrapv -O3 -Wall -Wstrict-prototypes -fPIC -I/opt/conda/include/python3.6m -c kmeanscython/kmeansinit_cython.c -o build/temp.linux-x86_64-3.6/kmeanscython/kmeansinit_cython.o\n",
      "creating build/lib.linux-x86_64-3.6/kmeanscython\n",
      "gcc -pthread -shared -L/opt/conda/lib -Wl,-rpath=/opt/conda/lib,--no-as-needed -L/opt/conda/lib -Wl,-rpath=/opt/conda/lib,--no-as-needed build/temp.linux-x86_64-3.6/kmeanscython/kmeansinit_cython.o -L/opt/conda/lib -lpython3.6m -o build/lib.linux-x86_64-3.6/kmeanscython/kmeansinit_cython.cpython-36m-x86_64-linux-gnu.so\n",
      "building 'kmeanscython.kmeansinitpp_cython' extension\n",
      "gcc -pthread -Wno-unused-result -Wsign-compare -DNDEBUG -g -fwrapv -O3 -Wall -Wstrict-prototypes -fPIC -I/opt/conda/include/python3.6m -c kmeanscython/kmeansinitpp_cython.c -o build/temp.linux-x86_64-3.6/kmeanscython/kmeansinitpp_cython.o\n",
      "gcc -pthread -shared -L/opt/conda/lib -Wl,-rpath=/opt/conda/lib,--no-as-needed -L/opt/conda/lib -Wl,-rpath=/opt/conda/lib,--no-as-needed build/temp.linux-x86_64-3.6/kmeanscython/kmeansinitpp_cython.o -L/opt/conda/lib -lpython3.6m -o build/lib.linux-x86_64-3.6/kmeanscython/kmeansinitpp_cython.cpython-36m-x86_64-linux-gnu.so\n",
      "building 'kmeanscython.kmeansinitvv_cython' extension\n",
      "gcc -pthread -Wno-unused-result -Wsign-compare -DNDEBUG -g -fwrapv -O3 -Wall -Wstrict-prototypes -fPIC -I/opt/conda/include/python3.6m -c kmeanscython/kmeansinitvv_cython.c -o build/temp.linux-x86_64-3.6/kmeanscython/kmeansinitvv_cython.o\n",
      "gcc -pthread -shared -L/opt/conda/lib -Wl,-rpath=/opt/conda/lib,--no-as-needed -L/opt/conda/lib -Wl,-rpath=/opt/conda/lib,--no-as-needed build/temp.linux-x86_64-3.6/kmeanscython/kmeansinitvv_cython.o -L/opt/conda/lib -lpython3.6m -o build/lib.linux-x86_64-3.6/kmeanscython/kmeansinitvv_cython.cpython-36m-x86_64-linux-gnu.so\n",
      "building 'kmeanscython.kmeansloop_cython' extension\n",
      "gcc -pthread -Wno-unused-result -Wsign-compare -DNDEBUG -g -fwrapv -O3 -Wall -Wstrict-prototypes -fPIC -I/opt/conda/include/python3.6m -c kmeanscython/kmeansloop_cython.c -o build/temp.linux-x86_64-3.6/kmeanscython/kmeansloop_cython.o\n",
      "gcc -pthread -shared -L/opt/conda/lib -Wl,-rpath=/opt/conda/lib,--no-as-needed -L/opt/conda/lib -Wl,-rpath=/opt/conda/lib,--no-as-needed build/temp.linux-x86_64-3.6/kmeanscython/kmeansloop_cython.o -L/opt/conda/lib -lpython3.6m -o build/lib.linux-x86_64-3.6/kmeanscython/kmeansloop_cython.cpython-36m-x86_64-linux-gnu.so\n",
      "building 'kmeanscython.__init__' extension\n",
      "gcc -pthread -Wno-unused-result -Wsign-compare -DNDEBUG -g -fwrapv -O3 -Wall -Wstrict-prototypes -fPIC -I/opt/conda/include/python3.6m -c kmeanscython/__init__.c -o build/temp.linux-x86_64-3.6/kmeanscython/__init__.o\n",
      "gcc -pthread -shared -L/opt/conda/lib -Wl,-rpath=/opt/conda/lib,--no-as-needed -L/opt/conda/lib -Wl,-rpath=/opt/conda/lib,--no-as-needed build/temp.linux-x86_64-3.6/kmeanscython/__init__.o -L/opt/conda/lib -lpython3.6m -o build/lib.linux-x86_64-3.6/kmeanscython/__init__.cpython-36m-x86_64-linux-gnu.so\n",
      "running install_lib\n",
      "creating /opt/conda/lib/python3.6/site-packages/kmeanscython\n",
      "copying build/lib.linux-x86_64-3.6/kmeanscython/__init__.cpython-36m-x86_64-linux-gnu.so -> /opt/conda/lib/python3.6/site-packages/kmeanscython\n",
      "copying build/lib.linux-x86_64-3.6/kmeanscython/kmeansloop_cython.cpython-36m-x86_64-linux-gnu.so -> /opt/conda/lib/python3.6/site-packages/kmeanscython\n",
      "copying build/lib.linux-x86_64-3.6/kmeanscython/kmeansinitpp_cython.cpython-36m-x86_64-linux-gnu.so -> /opt/conda/lib/python3.6/site-packages/kmeanscython\n",
      "copying build/lib.linux-x86_64-3.6/kmeanscython/kmeansinitvv_cython.cpython-36m-x86_64-linux-gnu.so -> /opt/conda/lib/python3.6/site-packages/kmeanscython\n",
      "copying build/lib.linux-x86_64-3.6/kmeanscython/kmeansinit_cython.cpython-36m-x86_64-linux-gnu.so -> /opt/conda/lib/python3.6/site-packages/kmeanscython\n",
      "creating /opt/conda/lib/python3.6/site-packages/kmeanspython\n",
      "copying build/lib.linux-x86_64-3.6/kmeanspython/kmeansinit.py -> /opt/conda/lib/python3.6/site-packages/kmeanspython\n",
      "copying build/lib.linux-x86_64-3.6/kmeanspython/kmeansinitvv.py -> /opt/conda/lib/python3.6/site-packages/kmeanspython\n",
      "copying build/lib.linux-x86_64-3.6/kmeanspython/kmeansinitpp.py -> /opt/conda/lib/python3.6/site-packages/kmeanspython\n",
      "copying build/lib.linux-x86_64-3.6/kmeanspython/__init__.py -> /opt/conda/lib/python3.6/site-packages/kmeanspython\n",
      "copying build/lib.linux-x86_64-3.6/kmeanspython/kmeansloop.py -> /opt/conda/lib/python3.6/site-packages/kmeanspython\n",
      "byte-compiling /opt/conda/lib/python3.6/site-packages/kmeanspython/kmeansinit.py to kmeansinit.cpython-36.pyc\n",
      "byte-compiling /opt/conda/lib/python3.6/site-packages/kmeanspython/kmeansinitvv.py to kmeansinitvv.cpython-36.pyc\n",
      "byte-compiling /opt/conda/lib/python3.6/site-packages/kmeanspython/kmeansinitpp.py to kmeansinitpp.cpython-36.pyc\n",
      "byte-compiling /opt/conda/lib/python3.6/site-packages/kmeanspython/__init__.py to __init__.cpython-36.pyc\n",
      "byte-compiling /opt/conda/lib/python3.6/site-packages/kmeanspython/kmeansloop.py to kmeansloop.cpython-36.pyc\n",
      "running install_egg_info\n",
      "Writing /opt/conda/lib/python3.6/site-packages/kmeansmethods-1.0-py3.6.egg-info\n"
     ]
    }
   ],
   "source": [
    "%%bash\n",
    "cd kmeansmethods\n",
    "python3 setup.py install"
   ]
  },
  {
   "cell_type": "markdown",
   "metadata": {},
   "source": [
    "### Load package and prepare data"
   ]
  },
  {
   "cell_type": "code",
   "execution_count": 2,
   "metadata": {},
   "outputs": [],
   "source": [
    "import pandas as pd\n",
    "import numpy as np\n",
    "import random"
   ]
  },
  {
   "cell_type": "code",
   "execution_count": 3,
   "metadata": {},
   "outputs": [
    {
     "name": "stderr",
     "output_type": "stream",
     "text": [
      "--2018-04-27 20:45:43--  https://archive.ics.uci.edu/ml/machine-learning-databases/wine/wine.data\n",
      "Resolving archive.ics.uci.edu (archive.ics.uci.edu)... 128.195.10.249\n",
      "Connecting to archive.ics.uci.edu (archive.ics.uci.edu)|128.195.10.249|:443... connected.\n",
      "HTTP request sent, awaiting response... 200 OK\n",
      "Length: 10782 (11K) [text/plain]\n",
      "Saving to: ‘wine.data’\n",
      "\n",
      "     0K ..........                                            100% 57.3M=0s\n",
      "\n",
      "2018-04-27 20:45:43 (57.3 MB/s) - ‘wine.data’ saved [10782/10782]\n",
      "\n"
     ]
    }
   ],
   "source": [
    "%%bash\n",
    "wget https://archive.ics.uci.edu/ml/machine-learning-databases/wine/wine.data"
   ]
  },
  {
   "cell_type": "code",
   "execution_count": 4,
   "metadata": {},
   "outputs": [],
   "source": [
    "testdata = pd.read_csv(\"wine.data\")\n",
    "testdata = np.array(testdata)"
   ]
  },
  {
   "cell_type": "markdown",
   "metadata": {},
   "source": [
    "### Test python version"
   ]
  },
  {
   "cell_type": "code",
   "execution_count": 5,
   "metadata": {},
   "outputs": [],
   "source": [
    "import kmeanspython"
   ]
  },
  {
   "cell_type": "code",
   "execution_count": 6,
   "metadata": {},
   "outputs": [
    {
     "data": {
      "text/plain": [
       "(array([[2.23076923e+00, 1.24676923e+01, 2.13538462e+00, 2.44230769e+00,\n",
       "         2.17153846e+01, 9.52307692e+01, 2.07692308e+00, 1.89461538e+00,\n",
       "         4.27692308e-01, 1.39769231e+00, 5.02076915e+00, 9.17692308e-01,\n",
       "         2.47230769e+00, 4.61384615e+02],\n",
       "        [2.60000000e+00, 1.26640000e+01, 3.24000000e+00, 2.39533333e+00,\n",
       "         2.15333333e+01, 9.66000000e+01, 1.85600000e+00, 1.22600000e+00,\n",
       "         4.24666667e-01, 1.27466667e+00, 4.67533333e+00, 8.64666667e-01,\n",
       "         2.19533333e+00, 5.73133333e+02],\n",
       "        [1.04000000e+00, 1.36780000e+01, 1.98920000e+00, 2.37400000e+00,\n",
       "         1.69680000e+01, 1.03240000e+02, 2.82400000e+00, 2.95920000e+00,\n",
       "         2.78400000e-01, 1.89200000e+00, 5.18200000e+00, 1.05440000e+00,\n",
       "         3.15840000e+00, 1.07680000e+03],\n",
       "        [1.00000000e+00, 1.39205000e+01, 1.76900000e+00, 2.49750000e+00,\n",
       "         1.72000000e+01, 1.06650000e+02, 2.90800000e+00, 3.08150000e+00,\n",
       "         2.95500000e-01, 1.90850000e+00, 6.32250000e+00, 1.11700000e+00,\n",
       "         3.00850000e+00, 1.36085000e+03],\n",
       "        [2.06250000e+00, 1.31350000e+01, 2.83375000e+00, 2.33812500e+00,\n",
       "         1.88062500e+01, 1.09000000e+02, 2.16375000e+00, 1.72062500e+00,\n",
       "         3.64375000e-01, 1.63562500e+00, 5.20812500e+00, 9.32500000e-01,\n",
       "         2.55000000e+00, 7.46687500e+02],\n",
       "        [2.00000000e+00, 1.22618182e+01, 2.06000000e+00, 2.26545455e+00,\n",
       "         2.10000000e+01, 9.36363636e+01, 2.32090909e+00, 2.22636364e+00,\n",
       "         3.67272727e-01, 1.59181818e+00, 2.58636364e+00, 1.02909091e+00,\n",
       "         2.94636364e+00, 3.29454545e+02],\n",
       "        [2.53571429e+00, 1.28289286e+01, 2.32928571e+00, 2.39428571e+00,\n",
       "         2.03678571e+01, 9.63214286e+01, 2.04178571e+00, 1.36750000e+00,\n",
       "         4.16071429e-01, 1.40607143e+00, 6.21714286e+00, 8.38214286e-01,\n",
       "         2.15035714e+00, 6.55357143e+02],\n",
       "        [1.81250000e+00, 1.30693750e+01, 2.33437500e+00, 2.44812500e+00,\n",
       "         1.97375000e+01, 1.12187500e+02, 2.33187500e+00, 1.97875000e+00,\n",
       "         3.47500000e-01, 1.69125000e+00, 5.36812500e+00, 9.11000000e-01,\n",
       "         2.67875000e+00, 8.76437500e+02],\n",
       "        [2.38888889e+00, 1.26077778e+01, 2.49222222e+00, 2.24500000e+00,\n",
       "         2.02500000e+01, 9.15000000e+01, 1.76000000e+00, 1.40000000e+00,\n",
       "         4.02222222e-01, 1.29333333e+00, 4.42777778e+00, 8.91111111e-01,\n",
       "         2.27555556e+00, 5.09166667e+02],\n",
       "        [2.13333333e+00, 1.24786667e+01, 2.48400000e+00, 2.19200000e+00,\n",
       "         1.99000000e+01, 8.75333333e+01, 2.38800000e+00, 2.15666667e+00,\n",
       "         3.34000000e-01, 1.64933333e+00, 3.45666667e+00, 1.03066667e+00,\n",
       "         2.63466667e+00, 4.02733333e+02]]),\n",
       " array([2., 2., 3., 4., 3., 3., 3., 2., 2., 3., 3., 3., 2., 3., 3., 3., 2.,\n",
       "        3., 7., 4., 4., 2., 2., 7., 7., 2., 3., 7., 2., 3., 3., 2., 3., 2.,\n",
       "        7., 7., 2., 2., 4., 4., 2., 2., 6., 7., 2., 2., 2., 2., 3., 2., 3.,\n",
       "        2., 3., 2., 2., 7., 3., 3., 8., 6., 0., 6., 9., 5., 6., 8., 8., 4.,\n",
       "        4., 7., 9., 0., 2., 7., 9., 9., 8., 4., 0., 5., 4., 6., 8., 8., 0.,\n",
       "        8., 1., 6., 6., 0., 0., 8., 5., 5., 7., 6., 9., 6., 9., 4., 1., 0.,\n",
       "        9., 6., 5., 8., 8., 5., 6., 1., 5., 1., 0., 9., 9., 8., 5., 9., 1.,\n",
       "        6., 0., 5., 9., 9., 9., 5., 0., 5., 1., 6., 8., 1., 1., 6., 6., 4.,\n",
       "        8., 1., 1., 1., 4., 8., 1., 7., 7., 9., 6., 6., 1., 8., 0., 9., 6.,\n",
       "        6., 4., 0., 7., 6., 6., 8., 6., 1., 6., 6., 8., 6., 6., 4., 6., 8.,\n",
       "        0., 6., 4., 4., 7., 7., 1.]),\n",
       " 27,\n",
       " 493541.71847224527)"
      ]
     },
     "execution_count": 6,
     "metadata": {},
     "output_type": "execute_result"
    }
   ],
   "source": [
    "init = kmeanspython.kmeansinit(testdata,10);kmeanspython.kmeansloop(testdata, init)"
   ]
  },
  {
   "cell_type": "code",
   "execution_count": 7,
   "metadata": {},
   "outputs": [
    {
     "data": {
      "text/plain": [
       "(array([[2.21739130e+00, 1.24830435e+01, 2.12086957e+00, 2.34913043e+00,\n",
       "         2.11000000e+01, 9.26956522e+01, 2.17304348e+00, 1.94956522e+00,\n",
       "         3.94347826e-01, 1.51913043e+00, 4.40695648e+00, 1.00478261e+00,\n",
       "         2.44652174e+00, 4.45217391e+02],\n",
       "        [1.00000000e+00, 1.41366667e+01, 1.83166667e+00, 2.41166667e+00,\n",
       "         1.62666667e+01, 1.07666667e+02, 3.25500000e+00, 3.49333333e+00,\n",
       "         2.71666667e-01, 2.21666667e+00, 7.23333333e+00, 1.11333333e+00,\n",
       "         3.02833333e+00, 1.53033333e+03],\n",
       "        [2.00000000e+00, 1.29225000e+01, 2.53500000e+00, 2.45500000e+00,\n",
       "         2.00500000e+01, 1.09000000e+02, 2.16333333e+00, 1.70333333e+00,\n",
       "         3.62500000e-01, 1.51083333e+00, 5.60916667e+00, 8.48833333e-01,\n",
       "         2.50416667e+00, 8.56750000e+02],\n",
       "        [1.00000000e+00, 1.37373684e+01, 2.03526316e+00, 2.34526316e+00,\n",
       "         1.64368421e+01, 1.01684211e+02, 2.75000000e+00, 2.89947368e+00,\n",
       "         2.71578947e-01, 1.84736842e+00, 5.19631579e+00, 1.05000000e+00,\n",
       "         3.13736842e+00, 1.07315789e+03],\n",
       "        [1.00000000e+00, 1.37623529e+01, 1.78058824e+00, 2.54058824e+00,\n",
       "         1.73588235e+01, 1.05411765e+02, 2.83294118e+00, 2.97588235e+00,\n",
       "         3.08235294e-01, 1.82352941e+00, 5.91647059e+00, 1.09529412e+00,\n",
       "         3.03823529e+00, 1.27088235e+03],\n",
       "        [1.28571429e+00, 1.35157143e+01, 1.73000000e+00, 2.39857143e+00,\n",
       "         1.97714286e+01, 1.18714286e+02, 2.88142857e+00, 2.88428571e+00,\n",
       "         2.92857143e-01, 2.14285714e+00, 4.55285714e+00, 1.12000000e+00,\n",
       "         3.21571429e+00, 9.57428571e+02],\n",
       "        [2.54838710e+00, 1.27935484e+01, 2.39548387e+00, 2.42000000e+00,\n",
       "         2.04129032e+01, 9.68387097e+01, 2.00516129e+00, 1.35548387e+00,\n",
       "         4.17741935e-01, 1.35516129e+00, 6.04774194e+00, 8.46774194e-01,\n",
       "         2.13903226e+00, 6.50225806e+02],\n",
       "        [2.00000000e+00, 1.23382353e+01, 2.39117647e+00, 2.22352941e+00,\n",
       "         2.05294118e+01, 9.01764706e+01, 2.33823529e+00, 2.25823529e+00,\n",
       "         3.54117647e-01, 1.59470588e+00, 2.79470588e+00, 9.69411765e-01,\n",
       "         2.95411765e+00, 3.47705882e+02],\n",
       "        [2.48275862e+00, 1.26479310e+01, 2.85068966e+00, 2.27862069e+00,\n",
       "         2.07758621e+01, 9.33448276e+01, 1.83275862e+00, 1.31379310e+00,\n",
       "         4.07931034e-01, 1.31482759e+00, 4.59068966e+00, 8.74137931e-01,\n",
       "         2.25413793e+00, 5.33344828e+02],\n",
       "        [2.06250000e+00, 1.31350000e+01, 2.83375000e+00, 2.33812500e+00,\n",
       "         1.88062500e+01, 1.09000000e+02, 2.16375000e+00, 1.72062500e+00,\n",
       "         3.64375000e-01, 1.63562500e+00, 5.20812500e+00, 9.32500000e-01,\n",
       "         2.55000000e+00, 7.46687500e+02]]),\n",
       " array([3., 4., 1., 9., 1., 4., 4., 3., 3., 1., 4., 4., 3., 1., 4., 4., 3.,\n",
       "        1., 2., 9., 9., 3., 3., 2., 2., 4., 4., 5., 3., 4., 1., 5., 4., 3.,\n",
       "        5., 2., 3., 3., 9., 9., 3., 3., 6., 2., 3., 3., 5., 3., 4., 3., 4.,\n",
       "        4., 4., 3., 3., 5., 4., 4., 8., 6., 0., 6., 0., 7., 6., 8., 8., 9.,\n",
       "        9., 2., 0., 0., 5., 2., 0., 7., 8., 9., 0., 7., 9., 6., 8., 8., 0.,\n",
       "        8., 8., 6., 6., 0., 0., 8., 7., 7., 5., 6., 0., 6., 0., 9., 8., 0.,\n",
       "        0., 6., 7., 8., 0., 7., 6., 8., 7., 6., 0., 7., 0., 8., 7., 7., 8.,\n",
       "        6., 0., 7., 7., 7., 7., 7., 0., 7., 8., 6., 8., 8., 6., 6., 6., 9.,\n",
       "        8., 8., 8., 6., 9., 8., 8., 2., 2., 0., 6., 6., 8., 8., 0., 0., 6.,\n",
       "        6., 9., 0., 2., 6., 6., 8., 6., 8., 6., 6., 8., 6., 6., 9., 6., 8.,\n",
       "        0., 6., 9., 9., 2., 2., 8.]),\n",
       " 8,\n",
       " 237234.19071556465)"
      ]
     },
     "execution_count": 7,
     "metadata": {},
     "output_type": "execute_result"
    }
   ],
   "source": [
    "init = kmeanspython.kmeansinitpp(testdata,10);kmeanspython.kmeansloop(testdata, init)"
   ]
  },
  {
   "cell_type": "code",
   "execution_count": 8,
   "metadata": {},
   "outputs": [
    {
     "data": {
      "text/plain": [
       "(array([[1.95652174e+00, 1.31652174e+01, 2.64217391e+00, 2.45043478e+00,\n",
       "         1.93652174e+01, 1.10260870e+02, 2.22521739e+00, 1.77782609e+00,\n",
       "         3.64347826e-01, 1.57739130e+00, 5.60173913e+00, 8.71565217e-01,\n",
       "         2.56217391e+00, 8.10478261e+02],\n",
       "        [1.00000000e+00, 1.40625000e+01, 1.82000000e+00, 2.38000000e+00,\n",
       "         1.64000000e+01, 1.05250000e+02, 3.10250000e+00, 3.52000000e+00,\n",
       "         2.62500000e-01, 2.28750000e+00, 7.21250000e+00, 1.19250000e+00,\n",
       "         2.96750000e+00, 1.56300000e+03],\n",
       "        [2.00000000e+00, 1.23382353e+01, 2.39117647e+00, 2.22352941e+00,\n",
       "         2.05294118e+01, 9.01764706e+01, 2.33823529e+00, 2.25823529e+00,\n",
       "         3.54117647e-01, 1.59470588e+00, 2.79470588e+00, 9.69411765e-01,\n",
       "         2.95411765e+00, 3.47705882e+02],\n",
       "        [1.00000000e+00, 1.36554545e+01, 2.00181818e+00, 2.49545455e+00,\n",
       "         1.67181818e+01, 1.03545455e+02, 2.92363636e+00, 3.11181818e+00,\n",
       "         2.91818182e-01, 1.99545455e+00, 5.64545455e+00, 1.03727273e+00,\n",
       "         3.01454545e+00, 1.13590909e+03],\n",
       "        [1.00000000e+00, 1.38323077e+01, 1.73000000e+00, 2.52307692e+00,\n",
       "         1.76384615e+01, 1.05538462e+02, 2.74076923e+00, 2.91384615e+00,\n",
       "         2.99230769e-01, 1.78384615e+00, 5.90384615e+00, 1.11769231e+00,\n",
       "         3.00538462e+00, 1.28153846e+03],\n",
       "        [1.11111111e+00, 1.36544444e+01, 1.92444444e+00, 2.31166667e+00,\n",
       "         1.75277778e+01, 1.07166667e+02, 2.76611111e+00, 2.83166667e+00,\n",
       "         2.75555556e-01, 1.90444444e+00, 4.77944444e+00, 1.07444444e+00,\n",
       "         3.25611111e+00, 1.00927778e+03],\n",
       "        [2.48275862e+00, 1.26479310e+01, 2.85068966e+00, 2.27862069e+00,\n",
       "         2.07758621e+01, 9.33448276e+01, 1.83275862e+00, 1.31379310e+00,\n",
       "         4.07931034e-01, 1.31482759e+00, 4.59068966e+00, 8.74137931e-01,\n",
       "         2.25413793e+00, 5.33344828e+02],\n",
       "        [1.00000000e+00, 1.41133333e+01, 1.87000000e+00, 2.54333333e+00,\n",
       "         1.63666667e+01, 1.13333333e+02, 3.37333333e+00, 3.22333333e+00,\n",
       "         3.23333333e-01, 1.94333333e+00, 6.95000000e+00, 1.01333333e+00,\n",
       "         3.07666667e+00, 1.43500000e+03],\n",
       "        [2.52777778e+00, 1.27508333e+01, 2.47916667e+00, 2.37583333e+00,\n",
       "         2.02472222e+01, 9.77222222e+01, 1.98777778e+00, 1.36388889e+00,\n",
       "         4.09722222e-01, 1.38972222e+00, 5.81333333e+00, 8.69722222e-01,\n",
       "         2.17305556e+00, 6.59555556e+02],\n",
       "        [2.21739130e+00, 1.24830435e+01, 2.12086957e+00, 2.34913043e+00,\n",
       "         2.11000000e+01, 9.26956522e+01, 2.17304348e+00, 1.94956522e+00,\n",
       "         3.94347826e-01, 1.51913043e+00, 4.40695648e+00, 1.00478261e+00,\n",
       "         2.44652174e+00, 4.45217391e+02]]),\n",
       " array([5., 3., 7., 0., 7., 4., 4., 5., 5., 1., 4., 4., 3., 1., 4., 4., 3.,\n",
       "        1., 0., 0., 0., 5., 5., 0., 0., 3., 4., 5., 5., 4., 1., 5., 4., 3.,\n",
       "        5., 0., 3., 5., 0., 0., 5., 3., 8., 0., 3., 5., 5., 5., 4., 3., 4.,\n",
       "        3., 7., 5., 3., 5., 4., 4., 6., 8., 9., 8., 9., 2., 8., 6., 6., 0.,\n",
       "        8., 0., 9., 9., 5., 0., 9., 2., 6., 0., 9., 2., 8., 8., 6., 6., 9.,\n",
       "        6., 6., 8., 8., 9., 9., 6., 2., 2., 5., 8., 9., 8., 9., 8., 6., 9.,\n",
       "        9., 8., 2., 6., 9., 2., 8., 6., 2., 8., 9., 2., 9., 6., 2., 2., 6.,\n",
       "        8., 9., 2., 2., 2., 2., 2., 9., 2., 6., 8., 6., 6., 8., 8., 8., 8.,\n",
       "        6., 6., 6., 8., 0., 6., 6., 0., 0., 9., 8., 8., 6., 6., 9., 9., 8.,\n",
       "        8., 8., 9., 0., 8., 8., 6., 8., 6., 8., 8., 6., 8., 8., 0., 8., 6.,\n",
       "        9., 8., 0., 0., 0., 0., 6.]),\n",
       " 3,\n",
       " 284034.2615783304)"
      ]
     },
     "execution_count": 8,
     "metadata": {},
     "output_type": "execute_result"
    }
   ],
   "source": [
    "init = kmeanspython.kmeansinitvv(testdata,10,2);kmeanspython.kmeansloop(testdata, init)"
   ]
  },
  {
   "cell_type": "markdown",
   "metadata": {},
   "source": [
    "### Test cython version"
   ]
  },
  {
   "cell_type": "code",
   "execution_count": 9,
   "metadata": {},
   "outputs": [
    {
     "name": "stderr",
     "output_type": "stream",
     "text": [
      "/opt/conda/lib/python3.6/site-packages/ipykernel_launcher.py:1: DeprecationWarning: Use importlib.util.find_spec() instead.\n",
      "  \"\"\"Entry point for launching an IPython kernel.\n"
     ]
    }
   ],
   "source": [
    "import kmeanscython"
   ]
  },
  {
   "cell_type": "code",
   "execution_count": 10,
   "metadata": {},
   "outputs": [
    {
     "name": "stdout",
     "output_type": "stream",
     "text": [
      "(<MemoryView of 'ndarray' at 0x7f60976dfd88>, <MemoryView of 'ndarray' at 0x7f6097713048>, 15, 246821.4541967351)\n",
      "[[2.50000000e+00 1.28265000e+01 2.29450000e+00 2.32250000e+00\n",
      "  1.95250000e+01 9.54500000e+01 2.08300000e+00 1.48050000e+00\n",
      "  4.34500000e-01 1.47050000e+00 6.31050000e+00 8.65000000e-01\n",
      "  2.18700000e+00 6.75950000e+02]\n",
      " [2.00000000e+00 1.29225000e+01 2.53500000e+00 2.45500000e+00\n",
      "  2.00500000e+01 1.09000000e+02 2.16333333e+00 1.70333333e+00\n",
      "  3.62500000e-01 1.51083333e+00 5.60916667e+00 8.48833333e-01\n",
      "  2.50416667e+00 8.56750000e+02]\n",
      " [1.28571429e+00 1.35157143e+01 1.73000000e+00 2.39857143e+00\n",
      "  1.97714286e+01 1.18714286e+02 2.88142857e+00 2.88428571e+00\n",
      "  2.92857143e-01 2.14285714e+00 4.55285714e+00 1.12000000e+00\n",
      "  3.21571429e+00 9.57428571e+02]\n",
      " [1.00000000e+00 1.37623529e+01 1.78058824e+00 2.54058824e+00\n",
      "  1.73588235e+01 1.05411765e+02 2.83294118e+00 2.97588235e+00\n",
      "  3.08235294e-01 1.82352941e+00 5.91647059e+00 1.09529412e+00\n",
      "  3.03823529e+00 1.27088235e+03]\n",
      " [1.00000000e+00 1.37373684e+01 2.03526316e+00 2.34526316e+00\n",
      "  1.64368421e+01 1.01684211e+02 2.75000000e+00 2.89947368e+00\n",
      "  2.71578947e-01 1.84736842e+00 5.19631579e+00 1.05000000e+00\n",
      "  3.13736842e+00 1.07315789e+03]\n",
      " [2.07142857e+00 1.32400000e+01 2.96071429e+00 2.39357143e+00\n",
      "  1.89000000e+01 1.11500000e+02 2.15642857e+00 1.63071429e+00\n",
      "  3.79285714e-01 1.64285714e+00 5.43785714e+00 8.92142857e-01\n",
      "  2.47857143e+00 7.51642857e+02]\n",
      " [2.32258065e+00 1.25490323e+01 2.34258065e+00 2.32774194e+00\n",
      "  2.08645161e+01 9.30645161e+01 1.89290323e+00 1.60741935e+00\n",
      "  4.12903226e-01 1.33709677e+00 4.67645158e+00 9.02258065e-01\n",
      "  2.35806452e+00 4.89129032e+02]\n",
      " [1.00000000e+00 1.41366667e+01 1.83166667e+00 2.41166667e+00\n",
      "  1.62666667e+01 1.07666667e+02 3.25500000e+00 3.49333333e+00\n",
      "  2.71666667e-01 2.21666667e+00 7.23333333e+00 1.11333333e+00\n",
      "  3.02833333e+00 1.53033333e+03]\n",
      " [2.56000000e+00 1.26976000e+01 2.87280000e+00 2.41680000e+00\n",
      "  2.15640000e+01 9.68000000e+01 1.91120000e+00 1.27080000e+00\n",
      "  3.94000000e-01 1.29000000e+00 5.00800000e+00 8.62800000e-01\n",
      "  2.22000000e+00 5.94080000e+02]\n",
      " [2.07692308e+00 1.23869231e+01 2.30461538e+00 2.22307692e+00\n",
      "  2.03653846e+01 9.01153846e+01 2.35961538e+00 2.18615385e+00\n",
      "  3.48076923e-01 1.62500000e+00 3.08846154e+00 1.03000000e+00\n",
      "  2.76653846e+00 3.71730769e+02]]\n",
      "[4 3 7 5 7 3 3 4 4 7 3 3 4 7 3 3 4 7 1 5 5 4 4 1 1 3 3 2 4 3 7 2 3 4 2 1 4\n",
      " 4 5 5 4 4 0 1 4 4 2 4 3 4 3 3 3 4 4 2 3 3 6 0 6 8 9 9 0 6 6 5 5 1 9 6 2 1\n",
      " 9 9 6 5 6 9 0 8 6 6 6 6 8 0 8 6 6 6 9 9 2 8 9 0 9 0 8 6 9 0 9 6 6 9 0 8 9\n",
      " 8 6 9 9 6 9 9 8 8 6 9 9 9 9 9 6 9 8 8 6 8 8 0 0 5 6 8 8 8 5 6 8 1 1 9 8 0\n",
      " 8 6 6 9 0 0 5 6 1 0 8 6 0 8 0 8 6 0 0 5 8 6 6 0 5 5 1 1 8]\n"
     ]
    }
   ],
   "source": [
    "init = kmeanscython.kmeansinit_cython(testdata, 10); temp = kmeanscython.kmeansloop_cython(testdata, init);print(temp)\n",
    "print(np.asarray(temp[0]));print(np.asarray(temp[1]))"
   ]
  },
  {
   "cell_type": "code",
   "execution_count": 11,
   "metadata": {},
   "outputs": [
    {
     "name": "stdout",
     "output_type": "stream",
     "text": [
      "(<MemoryView of 'ndarray' at 0x7f60976dfbe0>, <MemoryView of 'ndarray' at 0x7f6097713398>, 8, 243580.48582851875)\n",
      "[[1.86666667e+00 1.29926667e+01 2.37666667e+00 2.45800000e+00\n",
      "  1.99666667e+01 1.11800000e+02 2.27400000e+00 1.91066667e+00\n",
      "  3.53333333e-01 1.66866667e+00 5.30066667e+00 9.09066667e-01\n",
      "  2.63666667e+00 8.70200000e+02]\n",
      " [2.07142857e+00 1.32400000e+01 2.96071429e+00 2.39357143e+00\n",
      "  1.89000000e+01 1.11500000e+02 2.15642857e+00 1.63071429e+00\n",
      "  3.79285714e-01 1.64285714e+00 5.43785714e+00 8.92142857e-01\n",
      "  2.47857143e+00 7.51642857e+02]\n",
      " [2.00000000e+00 1.23382353e+01 2.39117647e+00 2.22352941e+00\n",
      "  2.05294118e+01 9.01764706e+01 2.33823529e+00 2.25823529e+00\n",
      "  3.54117647e-01 1.59470588e+00 2.79470588e+00 9.69411765e-01\n",
      "  2.95411765e+00 3.47705882e+02]\n",
      " [1.00000000e+00 1.37623529e+01 1.78058824e+00 2.54058824e+00\n",
      "  1.73588235e+01 1.05411765e+02 2.83294118e+00 2.97588235e+00\n",
      "  3.08235294e-01 1.82352941e+00 5.91647059e+00 1.09529412e+00\n",
      "  3.03823529e+00 1.27088235e+03]\n",
      " [1.00000000e+00 1.41366667e+01 1.83166667e+00 2.41166667e+00\n",
      "  1.62666667e+01 1.07666667e+02 3.25500000e+00 3.49333333e+00\n",
      "  2.71666667e-01 2.21666667e+00 7.23333333e+00 1.11333333e+00\n",
      "  3.02833333e+00 1.53033333e+03]\n",
      " [1.04347826e+00 1.37304348e+01 1.98043478e+00 2.34521739e+00\n",
      "  1.70347826e+01 1.04086957e+02 2.79434783e+00 2.91565217e+00\n",
      "  2.72173913e-01 1.87826087e+00 5.14782609e+00 1.05826087e+00\n",
      "  3.15739130e+00 1.05739130e+03]\n",
      " [2.58823529e+00 1.26952941e+01 2.61176471e+00 2.45588235e+00\n",
      "  2.14176471e+01 9.69411765e+01 1.90882353e+00 1.20705882e+00\n",
      "  4.02352941e-01 1.18882353e+00 5.25235294e+00 8.50000000e-01\n",
      "  2.16235294e+00 6.14823529e+02]\n",
      " [2.44444444e+00 1.26348148e+01 2.72481481e+00 2.26592593e+00\n",
      "  2.07222222e+01 9.34074074e+01 1.79592593e+00 1.37148148e+00\n",
      "  3.99259259e-01 1.36000000e+00 4.56333333e+00 8.79259259e-01\n",
      "  2.26851852e+00 5.26111111e+02]\n",
      " [2.22727273e+00 1.24722727e+01 2.13772727e+00 2.35227273e+00\n",
      "  2.10363636e+01 9.30909091e+01 2.20909091e+00 1.95818182e+00\n",
      "  3.90454545e-01 1.51409091e+00 4.45727268e+00 1.01045455e+00\n",
      "  2.44772727e+00 4.43272727e+02]\n",
      " [2.47368421e+00 1.28394737e+01 2.34736842e+00 2.33421053e+00\n",
      "  1.95000000e+01 9.50526316e+01 2.11473684e+00 1.52789474e+00\n",
      "  4.29473684e-01 1.47421053e+00 6.24263158e+00 8.80000000e-01\n",
      "  2.22052632e+00 6.77842105e+02]]\n",
      "[5 3 4 1 4 3 3 5 5 4 3 3 5 4 3 3 5 4 0 1 1 5 5 0 0 3 3 0 5 3 4 5 3 5 0 0 5\n",
      " 5 1 1 5 5 9 0 5 5 5 5 3 5 3 3 3 5 5 5 3 3 7 9 8 6 8 2 9 7 7 1 1 0 8 8 5 0\n",
      " 8 2 7 1 8 2 9 6 7 7 8 7 7 9 6 8 8 7 2 2 0 6 8 9 8 9 7 8 8 9 2 7 7 2 9 7 2\n",
      " 6 8 2 8 7 2 2 7 6 8 2 2 2 2 2 8 2 6 6 7 7 6 9 9 1 7 6 6 6 1 7 7 0 0 8 6 9\n",
      " 7 7 8 8 9 6 1 8 0 9 6 7 9 7 9 6 7 9 9 1 6 7 8 9 1 1 0 0 7]\n"
     ]
    }
   ],
   "source": [
    "init = kmeanscython.kmeansinitpp_cython(testdata, 10); temp = kmeanscython.kmeansloop_cython(testdata, init);print(temp)\n",
    "print(np.asarray(temp[0]));print(np.asarray(temp[1]))"
   ]
  },
  {
   "cell_type": "code",
   "execution_count": 12,
   "metadata": {},
   "outputs": [
    {
     "name": "stdout",
     "output_type": "stream",
     "text": [
      "(<MemoryView of 'ndarray' at 0x7f60976dfd88>, <MemoryView of 'ndarray' at 0x7f60977131f0>, 5, 259706.61466891976)\n",
      "[[2.32142857e+00 1.29464286e+01 2.70250000e+00 2.36750000e+00\n",
      "  1.94250000e+01 1.02071429e+02 2.10321429e+00 1.55571429e+00\n",
      "  4.09642857e-01 1.55107143e+00 5.83892857e+00 8.98928571e-01\n",
      "  2.29285714e+00 7.05250000e+02]\n",
      " [2.32352941e+00 1.25317647e+01 2.28852941e+00 2.31794118e+00\n",
      "  2.07147059e+01 9.36176471e+01 1.91294118e+00 1.62294118e+00\n",
      "  4.02647059e-01 1.35088235e+00 4.66970585e+00 9.12941176e-01\n",
      "  2.33264706e+00 4.83647059e+02]\n",
      " [1.00000000e+00 1.39850000e+01 1.83000000e+00 2.56500000e+00\n",
      "  1.61500000e+01 1.13500000e+02 3.13500000e+00 3.09000000e+00\n",
      "  3.65000000e-01 1.82500000e+00 6.52500000e+00 1.09000000e+00\n",
      "  2.89000000e+00 1.41250000e+03]\n",
      " [1.12500000e+00 1.36518750e+01 1.93312500e+00 2.27500000e+00\n",
      "  1.72250000e+01 1.07625000e+02 2.75875000e+00 2.81375000e+00\n",
      "  2.70625000e-01 1.91625000e+00 4.77687500e+00 1.06562500e+00\n",
      "  3.23375000e+00 1.02075000e+03]\n",
      " [1.00000000e+00 1.36554545e+01 2.00181818e+00 2.49545455e+00\n",
      "  1.67181818e+01 1.03545455e+02 2.92363636e+00 3.11181818e+00\n",
      "  2.91818182e-01 1.99545455e+00 5.64545455e+00 1.03727273e+00\n",
      "  3.01454545e+00 1.13590909e+03]\n",
      " [2.60714286e+00 1.27089286e+01 2.77107143e+00 2.39821429e+00\n",
      "  2.13607143e+01 9.64285714e+01 1.89964286e+00 1.20321429e+00\n",
      "  4.08214286e-01 1.29107143e+00 5.23821429e+00 8.37500000e-01\n",
      "  2.14928571e+00 5.99714286e+02]\n",
      " [1.82352941e+00 1.31411765e+01 2.35470588e+00 2.44764706e+00\n",
      "  1.95705882e+01 1.08647059e+02 2.30352941e+00 1.96176471e+00\n",
      "  3.48823529e-01 1.57823529e+00 5.54647059e+00 8.95058824e-01\n",
      "  2.73411765e+00 8.51235294e+02]\n",
      " [1.00000000e+00 1.41240000e+01 1.84600000e+00 2.40400000e+00\n",
      "  1.64800000e+01 1.06800000e+02 3.25200000e+00 3.51400000e+00\n",
      "  2.58000000e-01 2.26600000e+00 7.33000000e+00 1.12600000e+00\n",
      "  3.06400000e+00 1.54640000e+03]\n",
      " [1.00000000e+00 1.38323077e+01 1.73000000e+00 2.52307692e+00\n",
      "  1.76384615e+01 1.05538462e+02 2.74076923e+00 2.91384615e+00\n",
      "  2.99230769e-01 1.78384615e+00 5.90384615e+00 1.11769231e+00\n",
      "  3.00538462e+00 1.28153846e+03]\n",
      " [2.04347826e+00 1.23913043e+01 2.37956522e+00 2.22391304e+00\n",
      "  2.05217391e+01 8.89130435e+01 2.39086957e+00 2.23869565e+00\n",
      "  3.54782609e-01 1.64217391e+00 2.89130435e+00 1.03086957e+00\n",
      "  2.85739130e+00 3.64521739e+02]]\n",
      "[3 4 7 0 2 8 8 3 3 7 8 8 4 7 8 8 4 7 6 6 0 3 3 6 6 4 8 6 3 8 7 3 8 4 6 6 4\n",
      " 3 0 6 3 4 0 6 4 3 3 3 8 4 8 4 2 3 4 3 8 8 1 0 1 5 9 9 0 1 1 0 0 6 9 1 3 6\n",
      " 1 9 1 0 1 9 0 5 1 1 1 1 5 0 5 1 1 1 9 9 3 5 1 0 9 0 5 1 9 0 9 1 1 9 0 5 9\n",
      " 5 1 9 9 1 9 9 5 5 1 9 9 9 9 9 1 9 5 5 1 5 5 5 0 0 1 5 5 5 6 1 5 6 6 9 5 5\n",
      " 5 1 1 1 0 5 0 1 6 0 5 1 0 5 0 5 1 0 0 0 5 1 1 0 0 0 6 6 5]\n"
     ]
    }
   ],
   "source": [
    "init = kmeanscython.kmeansinitvv_cython(testdata, 10, 2); temp = kmeanscython.kmeansloop_cython(testdata, init);print(temp)\n",
    "print(np.asarray(temp[0]));print(np.asarray(temp[1]))"
   ]
  },
  {
   "cell_type": "code",
   "execution_count": null,
   "metadata": {},
   "outputs": [],
   "source": []
  }
 ],
 "metadata": {
  "kernelspec": {
   "display_name": "Python 3",
   "language": "python",
   "name": "python3"
  },
  "language_info": {
   "codemirror_mode": {
    "name": "ipython",
    "version": 3
   },
   "file_extension": ".py",
   "mimetype": "text/x-python",
   "name": "python",
   "nbconvert_exporter": "python",
   "pygments_lexer": "ipython3",
   "version": "3.6.5"
  }
 },
 "nbformat": 4,
 "nbformat_minor": 2
}
